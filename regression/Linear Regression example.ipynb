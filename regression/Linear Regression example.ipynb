{
 "cells": [
  {
   "cell_type": "markdown",
   "metadata": {},
   "source": [
    "# Simplified TensorFlow Linear regression example.\n",
    "- We will create a basic random data which will be suitable for linear regression.\n",
    "- We will use TensorFlow to predict a line which should best fit the dataset. Dataset will just contain 1 feature.\n",
    "- Lastly we will modify the example do perform linear regression in batches for a large dataset."
   ]
  },
  {
   "cell_type": "markdown",
   "metadata": {},
   "source": [
    "## 1. Simple linear regression using a small dataset\n"
   ]
  },
  {
   "cell_type": "code",
   "execution_count": 1,
   "metadata": {},
   "outputs": [],
   "source": [
    "import tensorflow as tf\n",
    "import matplotlib.pyplot as plt\n",
    "import numpy as np"
   ]
  },
  {
   "cell_type": "code",
   "execution_count": 2,
   "metadata": {},
   "outputs": [],
   "source": [
    "np.random.seed(101)"
   ]
  },
  {
   "cell_type": "code",
   "execution_count": 3,
   "metadata": {},
   "outputs": [
    {
     "data": {
      "text/plain": [
       "array([1.03279726, 1.61501938, 1.00431687, 1.76409594, 3.26529081,\n",
       "       4.03621478, 3.4560377 , 5.10301563, 5.23256141, 4.6430358 ,\n",
       "       5.84529729, 5.91479022, 6.04799533, 7.72909826, 8.56254539,\n",
       "       7.56997048, 7.74607024, 9.25972842, 9.9843013 , 9.55247766])"
      ]
     },
     "execution_count": 3,
     "metadata": {},
     "output_type": "execute_result"
    }
   ],
   "source": [
    "x_data = np.linspace(1, 10, 20) + np.random.uniform(high=1, low=-1, size=20)\n",
    "x_data"
   ]
  },
  {
   "cell_type": "code",
   "execution_count": 4,
   "metadata": {},
   "outputs": [
    {
     "data": {
      "text/plain": [
       "array([ 1.74122532,  1.54515411,  0.14130657,  0.97252958,  1.64260655,\n",
       "        5.34569266,  3.92476685,  4.63094762,  5.72874992,  5.43100498,\n",
       "        7.38945634,  7.44220692,  6.29620185,  6.58679211,  9.44308581,\n",
       "        7.47978947, 10.03934663, 10.37374243,  9.67896159, 11.68987749])"
      ]
     },
     "execution_count": 4,
     "metadata": {},
     "output_type": "execute_result"
    }
   ],
   "source": [
    "y_label = np.linspace(1,10,20) + np.random.uniform(high=2, low=-2, size=20)\n",
    "\n",
    "y_label"
   ]
  },
  {
   "cell_type": "code",
   "execution_count": 5,
   "metadata": {},
   "outputs": [
    {
     "data": {
      "text/plain": [
       "[<matplotlib.lines.Line2D at 0x2549bc40470>]"
      ]
     },
     "execution_count": 5,
     "metadata": {},
     "output_type": "execute_result"
    },
    {
     "data": {
      "image/png": "[encoded data removed]",
      "text/plain": [
       "<Figure size 432x288 with 1 Axes>"
      ]
     },
     "metadata": {
      "needs_background": "light"
     },
     "output_type": "display_data"
    }
   ],
   "source": [
    "plt.plot(x_data, y_label,'*')"
   ]
  },
  {
   "cell_type": "markdown",
   "metadata": {},
   "source": [
    "## Define the cost function\n",
    "- y = wx + b\n",
    "\n",
    "We already have `x_data` and `y_label` as our training data. Both these are Numpy arrays, however `w` and `b` are Tensorflow variables."
   ]
  },
  {
   "cell_type": "code",
   "execution_count": 6,
   "metadata": {},
   "outputs": [],
   "source": [
    "b = tf.Variable(initial_value=0.85)\n",
    "w = tf.Variable(initial_value=0.60)\n",
    "\n",
    "# Just give any value to error. error is our cost function\n",
    "error = 0\n",
    "\n",
    "for x,y in zip(x_data, y_label):\n",
    "    new_y = w*x + b\n",
    "    error += (y-new_y)**2"
   ]
  },
  {
   "cell_type": "markdown",
   "metadata": {},
   "source": [
    "## Create the optimizer for GradientDecent"
   ]
  },
  {
   "cell_type": "code",
   "execution_count": 7,
   "metadata": {},
   "outputs": [
    {
     "name": "stderr",
     "output_type": "stream",
     "text": [
      "WARNING: Logging before flag parsing goes to stderr.\n",
      "W1101 19:51:40.524678  9080 deprecation.py:323] From C:\\Users\\Obaid\\Anaconda3\\lib\\site-packages\\tensorflow\\python\\ops\\math_grad.py:1205: add_dispatch_support.<locals>.wrapper (from tensorflow.python.ops.array_ops) is deprecated and will be removed in a future version.\n",
      "Instructions for updating:\n",
      "Use tf.where in 2.0, which has the same broadcast rule as np.where\n"
     ]
    }
   ],
   "source": [
    "cost_function = tf.train.GradientDescentOptimizer(learning_rate=0.001)\n",
    "train = cost_function.minimize(error)"
   ]
  },
  {
   "cell_type": "markdown",
   "metadata": {},
   "source": [
    "## Train the Neural Network - train `w` and `b`\n",
    "- Optimize the cost function `error`"
   ]
  },
  {
   "cell_type": "code",
   "execution_count": 8,
   "metadata": {},
   "outputs": [
    {
     "name": "stdout",
     "output_type": "stream",
     "text": [
      " Trained values : trained_w 1.0601582527160645 trained_b 0.1931813508272171\n"
     ]
    }
   ],
   "source": [
    "epoch = 100\n",
    "init = tf.global_variables_initializer()\n",
    "\n",
    "trained_w = 0\n",
    "trained_b = 0\n",
    "\n",
    "with tf.Session() as session:\n",
    "    session.run(init)\n",
    "    \n",
    "    for x in range(epoch):\n",
    "        session.run(train)\n",
    "    \n",
    "    trained_w,trained_b = session.run([w,b])\n",
    "    \n",
    "    print(\" Trained values : trained_w {} trained_b {}\".format(trained_w, trained_b))"
   ]
  },
  {
   "cell_type": "markdown",
   "metadata": {},
   "source": [
    "## Display the decision boundary learned by the model (Line which fits the data best)"
   ]
  },
  {
   "cell_type": "code",
   "execution_count": 9,
   "metadata": {},
   "outputs": [],
   "source": [
    "x_trained = np.linspace(1,10, 20)\n",
    "y_trained = x_trained * trained_w + trained_b"
   ]
  },
  {
   "cell_type": "code",
   "execution_count": 10,
   "metadata": {},
   "outputs": [
    {
     "data": {
      "text/plain": [
       "[<matplotlib.lines.Line2D at 0x2549c400d68>]"
      ]
     },
     "execution_count": 10,
     "metadata": {},
     "output_type": "execute_result"
    },
    {
     "data": {
      "image/png": "[encoded data removed]",
      "text/plain": [
       "<Figure size 432x288 with 1 Axes>"
      ]
     },
     "metadata": {
      "needs_background": "light"
     },
     "output_type": "display_data"
    }
   ],
   "source": [
    "plt.plot(x_data, y_label,'*')\n",
    "plt.plot(x_trained, y_trained)\n"
   ]
  },
  {
   "cell_type": "markdown",
   "metadata": {},
   "source": [
    "## 2. Example of using batch normalization with large dataset (1 million points)"
   ]
  },
  {
   "cell_type": "code",
   "execution_count": 58,
   "metadata": {},
   "outputs": [
    {
     "data": {
      "text/plain": [
       "[<matplotlib.lines.Line2D at 0x2549e7fd780>]"
      ]
     },
     "execution_count": 58,
     "metadata": {},
     "output_type": "execute_result"
    },
    {
     "data": {
      "image/png": "[encoded data removed]",
      "text/plain": [
       "<Figure size 432x288 with 1 Axes>"
      ]
     },
     "metadata": {
      "needs_background": "light"
     },
     "output_type": "display_data"
    }
   ],
   "source": [
    "x_large = np.linspace(start=1, stop=10, num=1000000) + np.random.uniform(high=2, low=-2, size=1000000)\n",
    "y_large = np.linspace(start=1, stop=10, num=1000000) + np.random.uniform(high=2, low=-2, size=1000000)\n",
    "\n",
    "# Plot a random sample\n",
    "samples = 100\n",
    "random_sample_indexes = np.random.randint(1000000, size=samples)\n",
    "plt.plot(x_large[random_sample_indexes], y_large[random_sample_indexes], \"*\")"
   ]
  },
  {
   "cell_type": "code",
   "execution_count": 82,
   "metadata": {},
   "outputs": [
    {
     "name": "stdout",
     "output_type": "stream",
     "text": [
      "1.5275383 0.6155246\n"
     ]
    }
   ],
   "source": [
    "#  Variables\n",
    "batch_size = 8\n",
    "samples = 100\n",
    "\n",
    "w = tf.Variable(0.86)\n",
    "b = tf.Variable(0.21)\n",
    "xPH = tf.placeholder(shape=[batch_size], dtype=tf.float32)\n",
    "yPH = tf.placeholder(shape=[batch_size], dtype=tf.float32)\n",
    "\n",
    "# Function:\n",
    "z = w * xPH + b\n",
    "y_prediction = tf.sigmoid(z)\n",
    "\n",
    "# Cost Function\n",
    "cost = tf.reduce_sum(tf.square(yPH - y_prediction))\n",
    "cost_optimizer = tf.train.GradientDescentOptimizer(learning_rate=0.001).minimize(cost)\n",
    "\n",
    "# Train the model\n",
    "init = tf.global_variables_initializer()\n",
    "with tf.Session() as session:\n",
    "    session.run(init)\n",
    "    for x in range(1000):\n",
    "        random_indexes = np.random.randint(1000000, size=batch_size)\n",
    "        feed_dict_map = {\n",
    "            xPH : x_large[random_indexes],\n",
    "            yPH : y_large[random_indexes]\n",
    "        }\n",
    "        session.run(cost_optimizer, feed_dict=feed_dict_map)\n",
    "        \n",
    "    w_trained, b_trained = session.run([w,b])\n",
    "\n",
    "    print(w_trained, b_trained)"
   ]
  },
  {
   "cell_type": "code",
   "execution_count": 83,
   "metadata": {},
   "outputs": [],
   "source": [
    "import math\n",
    "\n",
    "def sigmoid(x):\n",
    "  return 1/(1 + np.exp(-x)) \n"
   ]
  },
  {
   "cell_type": "markdown",
   "metadata": {},
   "source": [
    "## Plot samples using the trained `w` and `b` parameters"
   ]
  },
  {
   "cell_type": "code",
   "execution_count": 84,
   "metadata": {},
   "outputs": [
    {
     "data": {
      "text/plain": [
       "[<matplotlib.lines.Line2D at 0x2549ee130b8>]"
      ]
     },
     "execution_count": 84,
     "metadata": {},
     "output_type": "execute_result"
    },
    {
     "data": {
      "image/png": "[encoded data removed]",
      "text/plain": [
       "<Figure size 432x288 with 1 Axes>"
      ]
     },
     "metadata": {
      "needs_background": "light"
     },
     "output_type": "display_data"
    }
   ],
   "source": [
    "random_sample_indexes = np.random.randint(1000000, size=samples)\n",
    "\n",
    "y_predicton = w_trained * x_large + b_trained\n",
    "\n",
    "plt.plot(x_large[random_sample_indexes], y_predicton[random_sample_indexes], 'r')\n",
    "plt.plot(x_large[random_sample_indexes], y_large[random_sample_indexes], '*')\n"
   ]
  },
  {
   "cell_type": "code",
   "execution_count": null,
   "metadata": {},
   "outputs": [],
   "source": []
  }
 ],
 "metadata": {
  "kernelspec": {
   "display_name": "Python 3",
   "language": "python",
   "name": "python3"
  },
  "language_info": {
   "codemirror_mode": {
    "name": "ipython",
    "version": 3
   },
   "file_extension": ".py",
   "mimetype": "text/x-python",
   "name": "python",
   "nbconvert_exporter": "python",
   "pygments_lexer": "ipython3",
   "version": "3.7.0"
  }
 },
 "nbformat": 4,
 "nbformat_minor": 2
}
