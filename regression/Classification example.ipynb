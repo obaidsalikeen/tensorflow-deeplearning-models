{
 "cells": [
  {
   "cell_type": "markdown",
   "metadata": {},
   "source": [
    "# Classification using TensorFlow tf.estimator (Have diabetes or not?)\n",
    "\n",
    "### Problem Statement:\n",
    "Predict if a person have a diabetes or not. We use an existing dataset stored in CSV.\n",
    "\n",
    "### Highlights:\n",
    "1. Clean the data first: Normalize features, convert continuous variable `age` into a categorical feature (Use pandas to load csv and perform data engineering)\n",
    "2. Use tf.estimator api to perform classification.\n",
    " "
   ]
  },
  {
   "cell_type": "code",
   "execution_count": null,
   "metadata": {},
   "outputs": [],
   "source": []
  }
 ],
 "metadata": {
  "kernelspec": {
   "display_name": "Python 3",
   "language": "python",
   "name": "python3"
  },
  "language_info": {
   "codemirror_mode": {
    "name": "ipython",
    "version": 3
   },
   "file_extension": ".py",
   "mimetype": "text/x-python",
   "name": "python",
   "nbconvert_exporter": "python",
   "pygments_lexer": "ipython3",
   "version": "3.7.0"
  }
 },
 "nbformat": 4,
 "nbformat_minor": 2
}
