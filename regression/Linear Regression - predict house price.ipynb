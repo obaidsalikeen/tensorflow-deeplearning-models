{
 "cells": [
  {
   "cell_type": "markdown",
   "metadata": {},
   "source": [
    "# Predict house price using linear regression\n",
    "\n",
    "- **Tasks**:\n",
    "    1. Use linear regression to predict house prices (use tf.estimator.LinearRegression)\n",
    "    2. Further improve the accuracy by switching to deep learning estimator.\n",
    "    \n",
    "   \n",
    "- **Dataset**:\n",
    "    1. California Housing dataset. The original page where the data set can be found is: http://www.liaad.up.pt/~ltorgo/Regression/DataSets.html.\n",
    "    \n",
    "    \n",
    "- **Highlights**:\n",
    "    1. Use scikit learn for preprocessing (scaling/normalizing features)\n",
    "    2. Use scikit learn for test/train split "
   ]
  },
  {
   "cell_type": "code",
   "execution_count": 2,
   "metadata": {},
   "outputs": [],
   "source": [
    "import pandas as pd"
   ]
  },
  {
   "cell_type": "code",
   "execution_count": 3,
   "metadata": {},
   "outputs": [
    {
     "data": {
      "text/html": [
       "<div>\n",
       "<style scoped>\n",
       "    .dataframe tbody tr th:only-of-type {\n",
       "        vertical-align: middle;\n",
       "    }\n",
       "\n",
       "    .dataframe tbody tr th {\n",
       "        vertical-align: top;\n",
       "    }\n",
       "\n",
       "    .dataframe thead th {\n",
       "        text-align: right;\n",
       "    }\n",
       "</style>\n",
       "<table border=\"1\" class=\"dataframe\">\n",
       "  <thead>\n",
       "    <tr style=\"text-align: right;\">\n",
       "      <th></th>\n",
       "      <th>housingMedianAge</th>\n",
       "      <th>totalRooms</th>\n",
       "      <th>totalBedrooms</th>\n",
       "      <th>population</th>\n",
       "      <th>households</th>\n",
       "      <th>medianIncome</th>\n",
       "      <th>medianHouseValue</th>\n",
       "    </tr>\n",
       "  </thead>\n",
       "  <tbody>\n",
       "    <tr>\n",
       "      <th>0</th>\n",
       "      <td>41.0</td>\n",
       "      <td>880.0</td>\n",
       "      <td>129.0</td>\n",
       "      <td>322.0</td>\n",
       "      <td>126.0</td>\n",
       "      <td>8.3252</td>\n",
       "      <td>452600.0</td>\n",
       "    </tr>\n",
       "    <tr>\n",
       "      <th>1</th>\n",
       "      <td>21.0</td>\n",
       "      <td>7099.0</td>\n",
       "      <td>1106.0</td>\n",
       "      <td>2401.0</td>\n",
       "      <td>1138.0</td>\n",
       "      <td>8.3014</td>\n",
       "      <td>358500.0</td>\n",
       "    </tr>\n",
       "    <tr>\n",
       "      <th>2</th>\n",
       "      <td>52.0</td>\n",
       "      <td>1467.0</td>\n",
       "      <td>190.0</td>\n",
       "      <td>496.0</td>\n",
       "      <td>177.0</td>\n",
       "      <td>7.2574</td>\n",
       "      <td>352100.0</td>\n",
       "    </tr>\n",
       "    <tr>\n",
       "      <th>3</th>\n",
       "      <td>52.0</td>\n",
       "      <td>1274.0</td>\n",
       "      <td>235.0</td>\n",
       "      <td>558.0</td>\n",
       "      <td>219.0</td>\n",
       "      <td>5.6431</td>\n",
       "      <td>341300.0</td>\n",
       "    </tr>\n",
       "    <tr>\n",
       "      <th>4</th>\n",
       "      <td>52.0</td>\n",
       "      <td>1627.0</td>\n",
       "      <td>280.0</td>\n",
       "      <td>565.0</td>\n",
       "      <td>259.0</td>\n",
       "      <td>3.8462</td>\n",
       "      <td>342200.0</td>\n",
       "    </tr>\n",
       "  </tbody>\n",
       "</table>\n",
       "</div>"
      ],
      "text/plain": [
       "   housingMedianAge  totalRooms  totalBedrooms  population  households  \\\n",
       "0              41.0       880.0          129.0       322.0       126.0   \n",
       "1              21.0      7099.0         1106.0      2401.0      1138.0   \n",
       "2              52.0      1467.0          190.0       496.0       177.0   \n",
       "3              52.0      1274.0          235.0       558.0       219.0   \n",
       "4              52.0      1627.0          280.0       565.0       259.0   \n",
       "\n",
       "   medianIncome  medianHouseValue  \n",
       "0        8.3252          452600.0  \n",
       "1        8.3014          358500.0  \n",
       "2        7.2574          352100.0  \n",
       "3        5.6431          341300.0  \n",
       "4        3.8462          342200.0  "
      ]
     },
     "execution_count": 3,
     "metadata": {},
     "output_type": "execute_result"
    }
   ],
   "source": [
    "dataset = pd.read_csv(\"datasets/cal_housing_clean.csv\")\n",
    "dataset.head()"
   ]
  },
  {
   "cell_type": "markdown",
   "metadata": {},
   "source": [
    "## 1. Feature engineering : \n",
    "- Normalize column values such that they are all between 0 and 1. This will help learning to be easy. Use Scikitlearn.preprocessing\n"
   ]
  },
  {
   "cell_type": "code",
   "execution_count": 4,
   "metadata": {},
   "outputs": [],
   "source": [
    "from sklearn import preprocessing"
   ]
  },
  {
   "cell_type": "code",
   "execution_count": 5,
   "metadata": {},
   "outputs": [],
   "source": [
    "# dataset.columns\n",
    "columns = ['housingMedianAge', 'totalRooms', 'totalBedrooms', 'population', 'households', 'medianIncome', 'medianHouseValue']\n",
    "\n",
    "min_max_scaler = preprocessing.MinMaxScaler(feature_range=(0,1))"
   ]
  },
  {
   "cell_type": "code",
   "execution_count": 6,
   "metadata": {},
   "outputs": [
    {
     "data": {
      "text/html": [
       "<div>\n",
       "<style scoped>\n",
       "    .dataframe tbody tr th:only-of-type {\n",
       "        vertical-align: middle;\n",
       "    }\n",
       "\n",
       "    .dataframe tbody tr th {\n",
       "        vertical-align: top;\n",
       "    }\n",
       "\n",
       "    .dataframe thead th {\n",
       "        text-align: right;\n",
       "    }\n",
       "</style>\n",
       "<table border=\"1\" class=\"dataframe\">\n",
       "  <thead>\n",
       "    <tr style=\"text-align: right;\">\n",
       "      <th></th>\n",
       "      <th>housingMedianAge</th>\n",
       "      <th>totalRooms</th>\n",
       "      <th>totalBedrooms</th>\n",
       "      <th>population</th>\n",
       "      <th>households</th>\n",
       "      <th>medianIncome</th>\n",
       "      <th>medianHouseValue</th>\n",
       "    </tr>\n",
       "  </thead>\n",
       "  <tbody>\n",
       "    <tr>\n",
       "      <th>0</th>\n",
       "      <td>0.784314</td>\n",
       "      <td>0.022331</td>\n",
       "      <td>0.019863</td>\n",
       "      <td>0.008941</td>\n",
       "      <td>0.020556</td>\n",
       "      <td>0.539668</td>\n",
       "      <td>0.902266</td>\n",
       "    </tr>\n",
       "    <tr>\n",
       "      <th>1</th>\n",
       "      <td>0.392157</td>\n",
       "      <td>0.180503</td>\n",
       "      <td>0.171477</td>\n",
       "      <td>0.067210</td>\n",
       "      <td>0.186976</td>\n",
       "      <td>0.538027</td>\n",
       "      <td>0.708247</td>\n",
       "    </tr>\n",
       "    <tr>\n",
       "      <th>2</th>\n",
       "      <td>1.000000</td>\n",
       "      <td>0.037260</td>\n",
       "      <td>0.029330</td>\n",
       "      <td>0.013818</td>\n",
       "      <td>0.028943</td>\n",
       "      <td>0.466028</td>\n",
       "      <td>0.695051</td>\n",
       "    </tr>\n",
       "    <tr>\n",
       "      <th>3</th>\n",
       "      <td>1.000000</td>\n",
       "      <td>0.032352</td>\n",
       "      <td>0.036313</td>\n",
       "      <td>0.015555</td>\n",
       "      <td>0.035849</td>\n",
       "      <td>0.354699</td>\n",
       "      <td>0.672783</td>\n",
       "    </tr>\n",
       "    <tr>\n",
       "      <th>4</th>\n",
       "      <td>1.000000</td>\n",
       "      <td>0.041330</td>\n",
       "      <td>0.043296</td>\n",
       "      <td>0.015752</td>\n",
       "      <td>0.042427</td>\n",
       "      <td>0.230776</td>\n",
       "      <td>0.674638</td>\n",
       "    </tr>\n",
       "  </tbody>\n",
       "</table>\n",
       "</div>"
      ],
      "text/plain": [
       "   housingMedianAge  totalRooms  totalBedrooms  population  households  \\\n",
       "0          0.784314    0.022331       0.019863    0.008941    0.020556   \n",
       "1          0.392157    0.180503       0.171477    0.067210    0.186976   \n",
       "2          1.000000    0.037260       0.029330    0.013818    0.028943   \n",
       "3          1.000000    0.032352       0.036313    0.015555    0.035849   \n",
       "4          1.000000    0.041330       0.043296    0.015752    0.042427   \n",
       "\n",
       "   medianIncome  medianHouseValue  \n",
       "0      0.539668          0.902266  \n",
       "1      0.538027          0.708247  \n",
       "2      0.466028          0.695051  \n",
       "3      0.354699          0.672783  \n",
       "4      0.230776          0.674638  "
      ]
     },
     "execution_count": 6,
     "metadata": {},
     "output_type": "execute_result"
    }
   ],
   "source": [
    "dataset[columns] = min_max_scaler.fit_transform(dataset[columns])\n",
    "dataset.head()"
   ]
  },
  {
   "cell_type": "markdown",
   "metadata": {},
   "source": [
    "## 2. Train and test split"
   ]
  },
  {
   "cell_type": "code",
   "execution_count": 7,
   "metadata": {},
   "outputs": [
    {
     "data": {
      "text/html": [
       "<div>\n",
       "<style scoped>\n",
       "    .dataframe tbody tr th:only-of-type {\n",
       "        vertical-align: middle;\n",
       "    }\n",
       "\n",
       "    .dataframe tbody tr th {\n",
       "        vertical-align: top;\n",
       "    }\n",
       "\n",
       "    .dataframe thead th {\n",
       "        text-align: right;\n",
       "    }\n",
       "</style>\n",
       "<table border=\"1\" class=\"dataframe\">\n",
       "  <thead>\n",
       "    <tr style=\"text-align: right;\">\n",
       "      <th></th>\n",
       "      <th>housingMedianAge</th>\n",
       "      <th>totalRooms</th>\n",
       "      <th>totalBedrooms</th>\n",
       "      <th>population</th>\n",
       "      <th>households</th>\n",
       "      <th>medianIncome</th>\n",
       "    </tr>\n",
       "  </thead>\n",
       "  <tbody>\n",
       "    <tr>\n",
       "      <th>0</th>\n",
       "      <td>0.784314</td>\n",
       "      <td>0.022331</td>\n",
       "      <td>0.019863</td>\n",
       "      <td>0.008941</td>\n",
       "      <td>0.020556</td>\n",
       "      <td>0.539668</td>\n",
       "    </tr>\n",
       "    <tr>\n",
       "      <th>1</th>\n",
       "      <td>0.392157</td>\n",
       "      <td>0.180503</td>\n",
       "      <td>0.171477</td>\n",
       "      <td>0.067210</td>\n",
       "      <td>0.186976</td>\n",
       "      <td>0.538027</td>\n",
       "    </tr>\n",
       "    <tr>\n",
       "      <th>2</th>\n",
       "      <td>1.000000</td>\n",
       "      <td>0.037260</td>\n",
       "      <td>0.029330</td>\n",
       "      <td>0.013818</td>\n",
       "      <td>0.028943</td>\n",
       "      <td>0.466028</td>\n",
       "    </tr>\n",
       "    <tr>\n",
       "      <th>3</th>\n",
       "      <td>1.000000</td>\n",
       "      <td>0.032352</td>\n",
       "      <td>0.036313</td>\n",
       "      <td>0.015555</td>\n",
       "      <td>0.035849</td>\n",
       "      <td>0.354699</td>\n",
       "    </tr>\n",
       "    <tr>\n",
       "      <th>4</th>\n",
       "      <td>1.000000</td>\n",
       "      <td>0.041330</td>\n",
       "      <td>0.043296</td>\n",
       "      <td>0.015752</td>\n",
       "      <td>0.042427</td>\n",
       "      <td>0.230776</td>\n",
       "    </tr>\n",
       "  </tbody>\n",
       "</table>\n",
       "</div>"
      ],
      "text/plain": [
       "   housingMedianAge  totalRooms  totalBedrooms  population  households  \\\n",
       "0          0.784314    0.022331       0.019863    0.008941    0.020556   \n",
       "1          0.392157    0.180503       0.171477    0.067210    0.186976   \n",
       "2          1.000000    0.037260       0.029330    0.013818    0.028943   \n",
       "3          1.000000    0.032352       0.036313    0.015555    0.035849   \n",
       "4          1.000000    0.041330       0.043296    0.015752    0.042427   \n",
       "\n",
       "   medianIncome  \n",
       "0      0.539668  \n",
       "1      0.538027  \n",
       "2      0.466028  \n",
       "3      0.354699  \n",
       "4      0.230776  "
      ]
     },
     "execution_count": 7,
     "metadata": {},
     "output_type": "execute_result"
    }
   ],
   "source": [
    "# Create x_data and y_data, separating the column medianHouseValue for training\n",
    "x_data = dataset.drop(\"medianHouseValue\", axis=1)\n",
    "y_data = dataset[\"medianHouseValue\"]\n",
    "x_data.head()"
   ]
  },
  {
   "cell_type": "code",
   "execution_count": 8,
   "metadata": {},
   "outputs": [
    {
     "name": "stdout",
     "output_type": "stream",
     "text": [
      " Total size of the original dataset: 20640, Train dataset: 14448 Test dataset: 6192\n"
     ]
    }
   ],
   "source": [
    "from sklearn.model_selection import train_test_split\n",
    "\n",
    "x_train, x_test, y_train, y_test = train_test_split(x_data, y_data, test_size=0.30)\n",
    "\n",
    "print(\" Total size of the original dataset: {}, Train dataset: {} Test dataset: {}\".format(len(x_data), len(x_train), len(x_test)))"
   ]
  },
  {
   "cell_type": "markdown",
   "metadata": {},
   "source": [
    "## 3. Create feature columns"
   ]
  },
  {
   "cell_type": "code",
   "execution_count": 9,
   "metadata": {},
   "outputs": [
    {
     "name": "stdout",
     "output_type": "stream",
     "text": [
      "Index(['housingMedianAge', 'totalRooms', 'totalBedrooms', 'population',\n",
      "       'households', 'medianIncome'],\n",
      "      dtype='object')\n"
     ]
    }
   ],
   "source": [
    "import tensorflow as tf\n",
    "\n",
    "print(x_train.columns)\n",
    "\n",
    "feature_cols = [\n",
    "    tf.feature_column.numeric_column(key=\"housingMedianAge\"),\n",
    "    tf.feature_column.numeric_column(key=\"totalRooms\"),\n",
    "    tf.feature_column.numeric_column(key=\"totalBedrooms\"),\n",
    "    tf.feature_column.numeric_column(key=\"population\"),\n",
    "    tf.feature_column.numeric_column(key=\"households\"),\n",
    "    tf.feature_column.numeric_column(key=\"medianIncome\")\n",
    "]"
   ]
  },
  {
   "cell_type": "markdown",
   "metadata": {},
   "source": [
    "## 4. Create the Input Function (Function gets the inputs and pass it to model)\n",
    "- Input function is a convenience, it can accept input in Pandas or Numpy format."
   ]
  },
  {
   "cell_type": "code",
   "execution_count": 16,
   "metadata": {},
   "outputs": [],
   "source": [
    "# Create the Input Function for Training\n",
    "train_input_function = tf.estimator.inputs.pandas_input_fn(x=x_train, y=y_train, shuffle=False, batch_size=128, num_epochs=100)\n",
    "\n",
    "# Create the Input Function for Test / Evaluation\n",
    "test_input_function = tf.estimator.inputs.pandas_input_fn(x=x_test, y=y_test, shuffle=False)\n"
   ]
  },
  {
   "cell_type": "markdown",
   "metadata": {},
   "source": [
    "## 5. Train the model"
   ]
  },
  {
   "cell_type": "code",
   "execution_count": 17,
   "metadata": {},
   "outputs": [
    {
     "name": "stderr",
     "output_type": "stream",
     "text": [
      "W1103 00:34:42.039487  9340 estimator.py:1811] Using temporary folder as model directory: C:\\Users\\Obaid\\AppData\\Local\\Temp\\tmp_cpdz1od\n"
     ]
    }
   ],
   "source": [
    "# Create the model : \n",
    "model = tf.estimator.LinearRegressor(feature_columns=feature_cols)"
   ]
  },
  {
   "cell_type": "code",
   "execution_count": 20,
   "metadata": {},
   "outputs": [
    {
     "data": {
      "text/plain": [
       "<tensorflow_estimator.python.estimator.canned.linear.LinearRegressor at 0x1d414dffb70>"
      ]
     },
     "execution_count": 20,
     "metadata": {},
     "output_type": "execute_result"
    }
   ],
   "source": [
    "model.train(input_fn=train_input_function, steps=100)"
   ]
  },
  {
   "cell_type": "markdown",
   "metadata": {},
   "source": [
    "## 6. Evaluate - Compare test and train metrics"
   ]
  },
  {
   "cell_type": "code",
   "execution_count": 21,
   "metadata": {},
   "outputs": [],
   "source": [
    "train_metrics = model.evaluate(input_fn=train_input_function)\n",
    "\n",
    "test_metrics = model.evaluate(input_fn=test_input_function)"
   ]
  },
  {
   "cell_type": "code",
   "execution_count": 14,
   "metadata": {},
   "outputs": [
    {
     "data": {
      "text/plain": [
       "{'average_loss': 0.027483802,\n",
       " 'label/mean': 0.39470482,\n",
       " 'loss': 3.5140352,\n",
       " 'prediction/mean': 0.3734718,\n",
       " 'global_step': 113}"
      ]
     },
     "execution_count": 14,
     "metadata": {},
     "output_type": "execute_result"
    }
   ],
   "source": [
    "train_metrics"
   ]
  },
  {
   "cell_type": "code",
   "execution_count": 15,
   "metadata": {},
   "outputs": [
    {
     "data": {
      "text/plain": [
       "{'average_loss': 0.027077353,\n",
       " 'label/mean': 0.39762032,\n",
       " 'loss': 3.421693,\n",
       " 'prediction/mean': 0.37482846,\n",
       " 'global_step': 113}"
      ]
     },
     "execution_count": 15,
     "metadata": {},
     "output_type": "execute_result"
    }
   ],
   "source": [
    "test_metrics"
   ]
  },
  {
   "cell_type": "code",
   "execution_count": null,
   "metadata": {
    "scrolled": true
   },
   "outputs": [],
   "source": []
  }
 ],
 "metadata": {
  "kernelspec": {
   "display_name": "Python 3",
   "language": "python",
   "name": "python3"
  },
  "language_info": {
   "codemirror_mode": {
    "name": "ipython",
    "version": 3
   },
   "file_extension": ".py",
   "mimetype": "text/x-python",
   "name": "python",
   "nbconvert_exporter": "python",
   "pygments_lexer": "ipython3",
   "version": "3.7.0"
  }
 },
 "nbformat": 4,
 "nbformat_minor": 2
}
