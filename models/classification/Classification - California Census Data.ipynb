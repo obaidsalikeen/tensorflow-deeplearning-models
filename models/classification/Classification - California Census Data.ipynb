{
 "cells": [
  {
   "cell_type": "markdown",
   "metadata": {},
   "source": [
    "# Classification using TensorFlow tf.estimator API (Income >50k or <=50k?)\n",
    "\n",
    "### Problem Statement:\n",
    "We'll be working with some California Census Data, we'll be trying to use various features of an individual to predict what class of income they belogn in (>50k or <=50k). \n",
    "\n",
    "### Dataset\n",
    "California Census Data\n",
    "\n",
    "### Highlights:\n",
    "1. Clean the data first: Normalize features, convert continuous variable `age` into a categorical feature (Use pandas to load csv and perform data engineering)\n",
    "2. Use tf.estimator api to perform classification.\n",
    " "
   ]
  },
  {
   "cell_type": "code",
   "execution_count": 21,
   "metadata": {},
   "outputs": [
    {
     "data": {
      "text/html": [
       "<div>\n",
       "<style scoped>\n",
       "    .dataframe tbody tr th:only-of-type {\n",
       "        vertical-align: middle;\n",
       "    }\n",
       "\n",
       "    .dataframe tbody tr th {\n",
       "        vertical-align: top;\n",
       "    }\n",
       "\n",
       "    .dataframe thead th {\n",
       "        text-align: right;\n",
       "    }\n",
       "</style>\n",
       "<table border=\"1\" class=\"dataframe\">\n",
       "  <thead>\n",
       "    <tr style=\"text-align: right;\">\n",
       "      <th></th>\n",
       "      <th>age</th>\n",
       "      <th>workclass</th>\n",
       "      <th>education</th>\n",
       "      <th>education_num</th>\n",
       "      <th>marital_status</th>\n",
       "      <th>occupation</th>\n",
       "      <th>relationship</th>\n",
       "      <th>race</th>\n",
       "      <th>gender</th>\n",
       "      <th>capital_gain</th>\n",
       "      <th>capital_loss</th>\n",
       "      <th>hours_per_week</th>\n",
       "      <th>native_country</th>\n",
       "      <th>income_bracket</th>\n",
       "    </tr>\n",
       "  </thead>\n",
       "  <tbody>\n",
       "    <tr>\n",
       "      <th>0</th>\n",
       "      <td>39</td>\n",
       "      <td>State-gov</td>\n",
       "      <td>Bachelors</td>\n",
       "      <td>13</td>\n",
       "      <td>Never-married</td>\n",
       "      <td>Adm-clerical</td>\n",
       "      <td>Not-in-family</td>\n",
       "      <td>White</td>\n",
       "      <td>Male</td>\n",
       "      <td>2174</td>\n",
       "      <td>0</td>\n",
       "      <td>40</td>\n",
       "      <td>United-States</td>\n",
       "      <td>&lt;=50K</td>\n",
       "    </tr>\n",
       "    <tr>\n",
       "      <th>1</th>\n",
       "      <td>50</td>\n",
       "      <td>Self-emp-not-inc</td>\n",
       "      <td>Bachelors</td>\n",
       "      <td>13</td>\n",
       "      <td>Married-civ-spouse</td>\n",
       "      <td>Exec-managerial</td>\n",
       "      <td>Husband</td>\n",
       "      <td>White</td>\n",
       "      <td>Male</td>\n",
       "      <td>0</td>\n",
       "      <td>0</td>\n",
       "      <td>13</td>\n",
       "      <td>United-States</td>\n",
       "      <td>&lt;=50K</td>\n",
       "    </tr>\n",
       "    <tr>\n",
       "      <th>2</th>\n",
       "      <td>38</td>\n",
       "      <td>Private</td>\n",
       "      <td>HS-grad</td>\n",
       "      <td>9</td>\n",
       "      <td>Divorced</td>\n",
       "      <td>Handlers-cleaners</td>\n",
       "      <td>Not-in-family</td>\n",
       "      <td>White</td>\n",
       "      <td>Male</td>\n",
       "      <td>0</td>\n",
       "      <td>0</td>\n",
       "      <td>40</td>\n",
       "      <td>United-States</td>\n",
       "      <td>&lt;=50K</td>\n",
       "    </tr>\n",
       "    <tr>\n",
       "      <th>3</th>\n",
       "      <td>53</td>\n",
       "      <td>Private</td>\n",
       "      <td>11th</td>\n",
       "      <td>7</td>\n",
       "      <td>Married-civ-spouse</td>\n",
       "      <td>Handlers-cleaners</td>\n",
       "      <td>Husband</td>\n",
       "      <td>Black</td>\n",
       "      <td>Male</td>\n",
       "      <td>0</td>\n",
       "      <td>0</td>\n",
       "      <td>40</td>\n",
       "      <td>United-States</td>\n",
       "      <td>&lt;=50K</td>\n",
       "    </tr>\n",
       "    <tr>\n",
       "      <th>4</th>\n",
       "      <td>28</td>\n",
       "      <td>Private</td>\n",
       "      <td>Bachelors</td>\n",
       "      <td>13</td>\n",
       "      <td>Married-civ-spouse</td>\n",
       "      <td>Prof-specialty</td>\n",
       "      <td>Wife</td>\n",
       "      <td>Black</td>\n",
       "      <td>Female</td>\n",
       "      <td>0</td>\n",
       "      <td>0</td>\n",
       "      <td>40</td>\n",
       "      <td>Cuba</td>\n",
       "      <td>&lt;=50K</td>\n",
       "    </tr>\n",
       "  </tbody>\n",
       "</table>\n",
       "</div>"
      ],
      "text/plain": [
       "   age          workclass   education  education_num       marital_status  \\\n",
       "0   39          State-gov   Bachelors             13        Never-married   \n",
       "1   50   Self-emp-not-inc   Bachelors             13   Married-civ-spouse   \n",
       "2   38            Private     HS-grad              9             Divorced   \n",
       "3   53            Private        11th              7   Married-civ-spouse   \n",
       "4   28            Private   Bachelors             13   Married-civ-spouse   \n",
       "\n",
       "           occupation    relationship    race   gender  capital_gain  \\\n",
       "0        Adm-clerical   Not-in-family   White     Male          2174   \n",
       "1     Exec-managerial         Husband   White     Male             0   \n",
       "2   Handlers-cleaners   Not-in-family   White     Male             0   \n",
       "3   Handlers-cleaners         Husband   Black     Male             0   \n",
       "4      Prof-specialty            Wife   Black   Female             0   \n",
       "\n",
       "   capital_loss  hours_per_week  native_country income_bracket  \n",
       "0             0              40   United-States          <=50K  \n",
       "1             0              13   United-States          <=50K  \n",
       "2             0              40   United-States          <=50K  \n",
       "3             0              40   United-States          <=50K  \n",
       "4             0              40            Cuba          <=50K  "
      ]
     },
     "execution_count": 21,
     "metadata": {},
     "output_type": "execute_result"
    }
   ],
   "source": [
    "import tensorflow as tf\n",
    "import pandas as pd\n",
    "\n",
    "dataset = pd.read_csv(\"datasets/census_data.csv\")\n",
    "dataset.head()"
   ]
  },
  {
   "cell_type": "markdown",
   "metadata": {},
   "source": [
    "## 1. Feature Engineering \n",
    "- Convert categorical features to numeric, and continuous to categorical\n",
    "- Scale features so all of them are between 0 and 1"
   ]
  },
  {
   "cell_type": "code",
   "execution_count": 22,
   "metadata": {},
   "outputs": [
    {
     "data": {
      "text/plain": [
       "16"
      ]
     },
     "execution_count": 22,
     "metadata": {},
     "output_type": "execute_result"
    }
   ],
   "source": [
    "len(dataset[\"education\"].unique())"
   ]
  },
  {
   "cell_type": "code",
   "execution_count": 23,
   "metadata": {},
   "outputs": [],
   "source": [
    "# Columns: [\n",
    "# 'age', 'workclass', 'education', 'education_num', 'marital_status', \n",
    "# 'occupation', 'relationship', 'race', 'gender', 'capital_gain', \n",
    "# 'capital_loss', 'hours_per_week', 'native_country', 'income_bracket']\n",
    "\n",
    "# Numerical Features:\n",
    "capital_gain = tf.feature_column.numeric_column(key=\"capital_gain\")\n",
    "capital_loss = tf.feature_column.numeric_column(key=\"capital_loss\")\n",
    "hours_per_week = tf.feature_column.numeric_column(key=\"hours_per_week\")\n",
    "education_num = tf.feature_column.numeric_column(key=\"education_num\")\n",
    "\n",
    "# Categorical Features:\n",
    "workclass = tf.feature_column.categorical_column_with_hash_bucket(key=\"workclass\", hash_bucket_size=100)\n",
    "education = tf.feature_column.categorical_column_with_hash_bucket(key=\"education\", hash_bucket_size=100)\n",
    "marital_status = tf.feature_column.categorical_column_with_hash_bucket(key=\"marital_status\", hash_bucket_size=5)\n",
    "occupation = tf.feature_column.categorical_column_with_hash_bucket(key=\"occupation\", hash_bucket_size=100)\n",
    "relationship = tf.feature_column.categorical_column_with_hash_bucket(key=\"relationship\", hash_bucket_size=10)\n",
    "race = tf.feature_column.categorical_column_with_hash_bucket(key=\"race\", hash_bucket_size=100)\n",
    "gender = tf.feature_column.categorical_column_with_hash_bucket(key=\"gender\", hash_bucket_size=10)\n",
    "native_country = tf.feature_column.categorical_column_with_hash_bucket(key=\"native_country\", hash_bucket_size=300)"
   ]
  },
  {
   "cell_type": "markdown",
   "metadata": {},
   "source": [
    "## 3. Convert `age` into categorical feature"
   ]
  },
  {
   "cell_type": "code",
   "execution_count": 24,
   "metadata": {},
   "outputs": [
    {
     "data": {
      "text/plain": [
       "array([[<matplotlib.axes._subplots.AxesSubplot object at 0x00000273FC242F48>]],\n",
       "      dtype=object)"
      ]
     },
     "execution_count": 24,
     "metadata": {},
     "output_type": "execute_result"
    },
    {
     "data": {
      "image/png": "[encoded data removed]",
      "text/plain": [
       "<Figure size 432x288 with 1 Axes>"
      ]
     },
     "metadata": {
      "needs_background": "light"
     },
     "output_type": "display_data"
    }
   ],
   "source": [
    "import matplotlib.pyplot as plt\n",
    "\n",
    "dataset.hist(column=\"age\")"
   ]
  },
  {
   "cell_type": "code",
   "execution_count": 25,
   "metadata": {},
   "outputs": [],
   "source": [
    "age =  tf.feature_column.numeric_column(key=\"age\")\n",
    "\n",
    "age_categorical = tf.feature_column.bucketized_column(\n",
    "    boundaries=[10,20,30,40,50,60,70,80,90,100,110,120,130,140], source_column=age\n",
    ")"
   ]
  },
  {
   "cell_type": "markdown",
   "metadata": {},
   "source": [
    "## 4. Remove space from `income_bracket` feature"
   ]
  },
  {
   "cell_type": "code",
   "execution_count": 26,
   "metadata": {},
   "outputs": [
    {
     "name": "stdout",
     "output_type": "stream",
     "text": [
      "[' <=50K' ' >50K']\n"
     ]
    },
    {
     "data": {
      "text/plain": [
       "array([0, 1], dtype=int64)"
      ]
     },
     "execution_count": 26,
     "metadata": {},
     "output_type": "execute_result"
    }
   ],
   "source": [
    "print(dataset[\"income_bracket\"].unique())\n",
    "\n",
    "dataset[\"income_bracket\"] = dataset[\"income_bracket\"].apply(lambda x : 0 if x==' <=50K' else 1)\n",
    "\n",
    "dataset[\"income_bracket\"].unique()"
   ]
  },
  {
   "cell_type": "code",
   "execution_count": 27,
   "metadata": {},
   "outputs": [],
   "source": [
    "feature_cols = [ \n",
    "    age_categorical, workclass, education, education_num, marital_status, occupation, relationship, \n",
    "    race, gender, capital_gain, capital_loss, hours_per_week, native_country]"
   ]
  },
  {
   "cell_type": "markdown",
   "metadata": {},
   "source": [
    "## 6. Test Train split"
   ]
  },
  {
   "cell_type": "code",
   "execution_count": 28,
   "metadata": {},
   "outputs": [],
   "source": [
    "from sklearn.model_selection import train_test_split\n",
    "\n",
    "x_data = dataset.drop(\"income_bracket\", axis=1)\n",
    "y_data = dataset[\"income_bracket\"]\n",
    "\n",
    "x_train, x_test, y_train, y_test = train_test_split(x_data, y_data, test_size=0.3) "
   ]
  },
  {
   "cell_type": "markdown",
   "metadata": {},
   "source": [
    "## 5. Build the model and input function (Input functions for training, testing and prediction)"
   ]
  },
  {
   "cell_type": "code",
   "execution_count": 29,
   "metadata": {},
   "outputs": [
    {
     "name": "stdout",
     "output_type": "stream",
     "text": [
      "INFO:tensorflow:Using default config.\n",
      "WARNING:tensorflow:Using temporary folder as model directory: C:\\Users\\Obaid\\AppData\\Local\\Temp\\tmpuxbl6cqo\n",
      "INFO:tensorflow:Using config: {'_model_dir': 'C:\\\\Users\\\\Obaid\\\\AppData\\\\Local\\\\Temp\\\\tmpuxbl6cqo', '_tf_random_seed': None, '_save_summary_steps': 100, '_save_checkpoints_steps': None, '_save_checkpoints_secs': 600, '_session_config': allow_soft_placement: true\n",
      "graph_options {\n",
      "  rewrite_options {\n",
      "    meta_optimizer_iterations: ONE\n",
      "  }\n",
      "}\n",
      ", '_keep_checkpoint_max': 5, '_keep_checkpoint_every_n_hours': 10000, '_log_step_count_steps': 100, '_train_distribute': None, '_device_fn': None, '_protocol': None, '_eval_distribute': None, '_experimental_distribute': None, '_experimental_max_worker_delay_secs': None, '_session_creation_timeout_secs': 7200, '_service': None, '_cluster_spec': <tensorflow.python.training.server_lib.ClusterSpec object at 0x0000027382827088>, '_task_type': 'worker', '_task_id': 0, '_global_id_in_cluster': 0, '_master': '', '_evaluation_master': '', '_is_chief': True, '_num_ps_replicas': 0, '_num_worker_replicas': 1}\n"
     ]
    }
   ],
   "source": [
    "model = tf.estimator.LinearRegressor(feature_columns=feature_cols)\n",
    "\n",
    "# Training Input Function:\n",
    "train_input_func = tf.compat.v1.estimator.inputs.pandas_input_fn(x=x_train, y=y_train, batch_size=100, num_epochs=None, shuffle=True)\n",
    "\n",
    "# Test / Evaluation Input Functions:\n",
    "test_input_func = tf.compat.v1.estimator.inputs.pandas_input_fn(x=x_test, y=y_test, shuffle=False)\n",
    "\n",
    "# Prediction Input Function:\n",
    "predict_input_func = tf.compat.v1.estimator.inputs.pandas_input_fn(x=x_test, shuffle=False)\n"
   ]
  },
  {
   "cell_type": "code",
   "execution_count": 30,
   "metadata": {},
   "outputs": [
    {
     "name": "stdout",
     "output_type": "stream",
     "text": [
      "INFO:tensorflow:Calling model_fn.\n",
      "INFO:tensorflow:Done calling model_fn.\n",
      "INFO:tensorflow:Create CheckpointSaverHook.\n",
      "INFO:tensorflow:Graph was finalized.\n",
      "INFO:tensorflow:Running local_init_op.\n",
      "INFO:tensorflow:Done running local_init_op.\n",
      "INFO:tensorflow:Saving checkpoints for 0 into C:\\Users\\Obaid\\AppData\\Local\\Temp\\tmpuxbl6cqo\\model.ckpt.\n",
      "INFO:tensorflow:loss = 0.26, step = 0\n",
      "INFO:tensorflow:global_step/sec: 118.608\n",
      "INFO:tensorflow:loss = 0.18452564, step = 100 (0.847 sec)\n",
      "INFO:tensorflow:global_step/sec: 242.718\n",
      "INFO:tensorflow:loss = 0.18974891, step = 200 (0.411 sec)\n",
      "INFO:tensorflow:global_step/sec: 240.672\n",
      "INFO:tensorflow:loss = 0.18224636, step = 300 (0.415 sec)\n",
      "INFO:tensorflow:global_step/sec: 247.221\n",
      "INFO:tensorflow:loss = 0.15346321, step = 400 (0.405 sec)\n",
      "INFO:tensorflow:global_step/sec: 234.745\n",
      "INFO:tensorflow:loss = 0.15891114, step = 500 (0.427 sec)\n",
      "INFO:tensorflow:global_step/sec: 215.284\n",
      "INFO:tensorflow:loss = 0.11709795, step = 600 (0.464 sec)\n",
      "INFO:tensorflow:global_step/sec: 238.666\n",
      "INFO:tensorflow:loss = 0.13089336, step = 700 (0.418 sec)\n",
      "INFO:tensorflow:global_step/sec: 207.25\n",
      "INFO:tensorflow:loss = 0.13039777, step = 800 (0.483 sec)\n",
      "INFO:tensorflow:global_step/sec: 224.972\n",
      "INFO:tensorflow:loss = 0.10953667, step = 900 (0.442 sec)\n",
      "INFO:tensorflow:global_step/sec: 226.759\n",
      "INFO:tensorflow:loss = 0.12880404, step = 1000 (0.444 sec)\n",
      "INFO:tensorflow:global_step/sec: 233.098\n",
      "INFO:tensorflow:loss = 0.11309238, step = 1100 (0.429 sec)\n",
      "INFO:tensorflow:global_step/sec: 200.404\n",
      "INFO:tensorflow:loss = 0.12023514, step = 1200 (0.500 sec)\n",
      "INFO:tensorflow:global_step/sec: 233.094\n",
      "INFO:tensorflow:loss = 0.124005735, step = 1300 (0.429 sec)\n",
      "INFO:tensorflow:global_step/sec: 211.419\n",
      "INFO:tensorflow:loss = 0.124126226, step = 1400 (0.475 sec)\n",
      "INFO:tensorflow:global_step/sec: 251.89\n",
      "INFO:tensorflow:loss = 0.102105655, step = 1500 (0.395 sec)\n",
      "INFO:tensorflow:global_step/sec: 213.446\n",
      "INFO:tensorflow:loss = 0.120155945, step = 1600 (0.468 sec)\n",
      "INFO:tensorflow:global_step/sec: 211.417\n",
      "INFO:tensorflow:loss = 0.11671818, step = 1700 (0.473 sec)\n",
      "INFO:tensorflow:global_step/sec: 208.988\n",
      "INFO:tensorflow:loss = 0.12939896, step = 1800 (0.478 sec)\n",
      "INFO:tensorflow:global_step/sec: 206.611\n",
      "INFO:tensorflow:loss = 0.115011595, step = 1900 (0.484 sec)\n",
      "INFO:tensorflow:global_step/sec: 202.02\n",
      "INFO:tensorflow:loss = 0.102647066, step = 2000 (0.495 sec)\n",
      "INFO:tensorflow:global_step/sec: 216.919\n",
      "INFO:tensorflow:loss = 0.10994398, step = 2100 (0.460 sec)\n",
      "INFO:tensorflow:global_step/sec: 237.812\n",
      "INFO:tensorflow:loss = 0.13651496, step = 2200 (0.421 sec)\n",
      "INFO:tensorflow:global_step/sec: 227.792\n",
      "INFO:tensorflow:loss = 0.11547245, step = 2300 (0.442 sec)\n",
      "INFO:tensorflow:global_step/sec: 207.469\n",
      "INFO:tensorflow:loss = 0.12733239, step = 2400 (0.479 sec)\n",
      "INFO:tensorflow:global_step/sec: 216.916\n",
      "INFO:tensorflow:loss = 0.14413604, step = 2500 (0.462 sec)\n",
      "INFO:tensorflow:global_step/sec: 223.713\n",
      "INFO:tensorflow:loss = 0.13935256, step = 2600 (0.446 sec)\n",
      "INFO:tensorflow:global_step/sec: 220.027\n",
      "INFO:tensorflow:loss = 0.12430897, step = 2700 (0.457 sec)\n",
      "INFO:tensorflow:global_step/sec: 241.546\n",
      "INFO:tensorflow:loss = 0.12646796, step = 2800 (0.412 sec)\n",
      "INFO:tensorflow:global_step/sec: 248.443\n",
      "INFO:tensorflow:loss = 0.11297914, step = 2900 (0.401 sec)\n",
      "INFO:tensorflow:global_step/sec: 205.764\n",
      "INFO:tensorflow:loss = 0.11837904, step = 3000 (0.488 sec)\n",
      "INFO:tensorflow:global_step/sec: 189.394\n",
      "INFO:tensorflow:loss = 0.12935084, step = 3100 (0.533 sec)\n",
      "INFO:tensorflow:global_step/sec: 193.986\n",
      "INFO:tensorflow:loss = 0.13274612, step = 3200 (0.510 sec)\n",
      "INFO:tensorflow:global_step/sec: 177.778\n",
      "INFO:tensorflow:loss = 0.12099143, step = 3300 (0.563 sec)\n",
      "INFO:tensorflow:global_step/sec: 193.236\n",
      "INFO:tensorflow:loss = 0.10073887, step = 3400 (0.517 sec)\n",
      "INFO:tensorflow:global_step/sec: 166.667\n",
      "INFO:tensorflow:loss = 0.13510086, step = 3500 (0.600 sec)\n",
      "INFO:tensorflow:global_step/sec: 185.874\n",
      "INFO:tensorflow:loss = 0.11330542, step = 3600 (0.539 sec)\n",
      "INFO:tensorflow:global_step/sec: 189.753\n",
      "INFO:tensorflow:loss = 0.11717191, step = 3700 (0.526 sec)\n",
      "INFO:tensorflow:global_step/sec: 225.73\n",
      "INFO:tensorflow:loss = 0.13453686, step = 3800 (0.442 sec)\n",
      "INFO:tensorflow:global_step/sec: 227.534\n",
      "INFO:tensorflow:loss = 0.1374106, step = 3900 (0.441 sec)\n",
      "INFO:tensorflow:global_step/sec: 182.816\n",
      "INFO:tensorflow:loss = 0.15961158, step = 4000 (0.546 sec)\n",
      "INFO:tensorflow:global_step/sec: 204.285\n",
      "INFO:tensorflow:loss = 0.12866332, step = 4100 (0.490 sec)\n",
      "INFO:tensorflow:global_step/sec: 191.391\n",
      "INFO:tensorflow:loss = 0.108157784, step = 4200 (0.524 sec)\n",
      "INFO:tensorflow:global_step/sec: 191.022\n",
      "INFO:tensorflow:loss = 0.15959217, step = 4300 (0.520 sec)\n",
      "INFO:tensorflow:global_step/sec: 186.743\n",
      "INFO:tensorflow:loss = 0.1083916, step = 4400 (0.540 sec)\n",
      "INFO:tensorflow:global_step/sec: 170.648\n",
      "INFO:tensorflow:loss = 0.12695721, step = 4500 (0.584 sec)\n",
      "INFO:tensorflow:global_step/sec: 185.185\n",
      "INFO:tensorflow:loss = 0.12532529, step = 4600 (0.540 sec)\n",
      "INFO:tensorflow:global_step/sec: 174.217\n",
      "INFO:tensorflow:loss = 0.122150496, step = 4700 (0.577 sec)\n",
      "INFO:tensorflow:global_step/sec: 188.322\n",
      "INFO:tensorflow:loss = 0.1240978, step = 4800 (0.527 sec)\n",
      "INFO:tensorflow:global_step/sec: 202.022\n",
      "INFO:tensorflow:loss = 0.13452113, step = 4900 (0.498 sec)\n",
      "INFO:tensorflow:Saving checkpoints for 5000 into C:\\Users\\Obaid\\AppData\\Local\\Temp\\tmpuxbl6cqo\\model.ckpt.\n",
      "INFO:tensorflow:Loss for final step: 0.12132802.\n"
     ]
    },
    {
     "data": {
      "text/plain": [
       "<tensorflow_estimator.python.estimator.canned.linear.LinearRegressorV2 at 0x273828523c8>"
      ]
     },
     "execution_count": 30,
     "metadata": {},
     "output_type": "execute_result"
    }
   ],
   "source": [
    "model.train(input_fn=train_input_func, steps=5000)"
   ]
  },
  {
   "cell_type": "code",
   "execution_count": 31,
   "metadata": {},
   "outputs": [
    {
     "name": "stdout",
     "output_type": "stream",
     "text": [
      "INFO:tensorflow:Calling model_fn.\n",
      "INFO:tensorflow:Done calling model_fn.\n",
      "INFO:tensorflow:Starting evaluation at 2019-11-03T14:57:49Z\n",
      "INFO:tensorflow:Graph was finalized.\n",
      "INFO:tensorflow:Restoring parameters from C:\\Users\\Obaid\\AppData\\Local\\Temp\\tmpuxbl6cqo\\model.ckpt-5000\n",
      "INFO:tensorflow:Running local_init_op.\n",
      "INFO:tensorflow:Done running local_init_op.\n",
      "INFO:tensorflow:Finished evaluation at 2019-11-03-14:57:50\n",
      "INFO:tensorflow:Saving dict for global step 5000: average_loss = 0.120239444, global_step = 5000, label/mean = 0.24055687, loss = 0.12056554, prediction/mean = 0.23629521\n",
      "INFO:tensorflow:Saving 'checkpoint_path' summary for global step 5000: C:\\Users\\Obaid\\AppData\\Local\\Temp\\tmpuxbl6cqo\\model.ckpt-5000\n"
     ]
    },
    {
     "data": {
      "text/plain": [
       "{'average_loss': 0.120239444,\n",
       " 'label/mean': 0.24055687,\n",
       " 'loss': 0.12056554,\n",
       " 'prediction/mean': 0.23629521,\n",
       " 'global_step': 5000}"
      ]
     },
     "execution_count": 31,
     "metadata": {},
     "output_type": "execute_result"
    }
   ],
   "source": [
    "metrics_eval = model.evaluate(input_fn=test_input_func)\n",
    "\n",
    "metrics_eval"
   ]
  },
  {
   "cell_type": "code",
   "execution_count": 32,
   "metadata": {},
   "outputs": [
    {
     "name": "stdout",
     "output_type": "stream",
     "text": [
      "INFO:tensorflow:Calling model_fn.\n",
      "INFO:tensorflow:Done calling model_fn.\n",
      "INFO:tensorflow:Graph was finalized.\n",
      "INFO:tensorflow:Restoring parameters from C:\\Users\\Obaid\\AppData\\Local\\Temp\\tmpuxbl6cqo\\model.ckpt-5000\n",
      "INFO:tensorflow:Running local_init_op.\n",
      "INFO:tensorflow:Done running local_init_op.\n"
     ]
    }
   ],
   "source": [
    "predictions = list(model.predict(input_fn = predict_input_func))"
   ]
  },
  {
   "cell_type": "code",
   "execution_count": 33,
   "metadata": {},
   "outputs": [
    {
     "data": {
      "text/plain": [
       "{'predictions': array([0.43159753], dtype=float32)}"
      ]
     },
     "execution_count": 33,
     "metadata": {},
     "output_type": "execute_result"
    }
   ],
   "source": [
    "predictions[0]"
   ]
  },
  {
   "cell_type": "code",
   "execution_count": null,
   "metadata": {},
   "outputs": [],
   "source": []
  }
 ],
 "metadata": {
  "kernelspec": {
   "display_name": "Python 3",
   "language": "python",
   "name": "python3"
  },
  "language_info": {
   "codemirror_mode": {
    "name": "ipython",
    "version": 3
   },
   "file_extension": ".py",
   "mimetype": "text/x-python",
   "name": "python",
   "nbconvert_exporter": "python",
   "pygments_lexer": "ipython3",
   "version": "3.7.4"
  }
 },
 "nbformat": 4,
 "nbformat_minor": 2
}
