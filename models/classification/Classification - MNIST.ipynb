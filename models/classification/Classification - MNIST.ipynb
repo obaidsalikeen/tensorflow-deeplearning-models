{
 "cells": [
  {
   "cell_type": "markdown",
   "metadata": {},
   "source": [
    "# MNIST example - recognize digits from given images. \n",
    "- Use basic tensorflow to perform classifications (use one-hot encoding)\n",
    "- Measure the accuracy"
   ]
  },
  {
   "cell_type": "code",
   "execution_count": 194,
   "metadata": {},
   "outputs": [],
   "source": [
    "import tensorflow as tf    \n",
    "import numpy as np\n",
    "from tensorflow.keras.datasets import mnist"
   ]
  },
  {
   "cell_type": "markdown",
   "metadata": {},
   "source": [
    "## 1. Load MNIST dataset"
   ]
  },
  {
   "cell_type": "code",
   "execution_count": 172,
   "metadata": {},
   "outputs": [],
   "source": [
    "np.random.seed(101)\n",
    "\n",
    "(x_train_pre, y_train_pre), (x_test_pre, y_test_pre) = mnist.load_data()\n",
    "\n",
    "train_examples = x_train_pre.shape[0]\n",
    "test_examples = x_test_pre.shape[0]\n",
    "x_train = x_train_pre.reshape(train_examples, 784)\n",
    "x_test = x_test_pre.reshape(test_examples, 784)\n",
    "\n",
    "m_train = x_train.shape[0]\n",
    "m_test = x_test.shape[0]"
   ]
  },
  {
   "cell_type": "markdown",
   "metadata": {},
   "source": [
    "## 1.1 Setup onehot encoding vectors\n",
    "- Convert the train and test labels to onehot vectors"
   ]
  },
  {
   "cell_type": "code",
   "execution_count": 173,
   "metadata": {},
   "outputs": [],
   "source": [
    "# Create one-hot encoding for predictions\n",
    "def set_onehot_vector(y_onehot, y_array, length): \n",
    "    col = -1\n",
    "    for row in range(length):\n",
    "        col = (y_train_pre[row]-1)\n",
    "        y_onehot[row][col]=1"
   ]
  },
  {
   "cell_type": "code",
   "execution_count": 174,
   "metadata": {
    "scrolled": true
   },
   "outputs": [],
   "source": [
    "y_train = np.zeros((m_train,10)).astype(int)\n",
    "y_test = np.zeros((m_test,10)).astype(int)\n",
    "\n",
    "set_onehot_vector(y_train, y_train_pre, m_train)\n",
    "set_onehot_vector(y_test, y_test_pre, m_test)"
   ]
  },
  {
   "cell_type": "code",
   "execution_count": 175,
   "metadata": {},
   "outputs": [
    {
     "name": "stdout",
     "output_type": "stream",
     "text": [
      " Shape of Training examples: (60000, 784)\n",
      " Shape of Training labels: (60000, 10)\n",
      " Shape of Test examples: (10000, 784)\n",
      " Shape of Test labels: (10000, 10)\n",
      " Test examples: 10000\n",
      " Train examples: 60000\n"
     ]
    }
   ],
   "source": [
    "print(\" Shape of Training examples: {}\".format(x_train.shape))\n",
    "print(\" Shape of Training labels: {}\".format(y_train.shape))\n",
    "print(\" Shape of Test examples: {}\".format(x_test.shape))\n",
    "print(\" Shape of Test labels: {}\".format(y_test.shape))\n",
    "print(\" Test examples: {}\".format(m_test))\n",
    "print(\" Train examples: {}\".format(m_train))"
   ]
  },
  {
   "cell_type": "markdown",
   "metadata": {},
   "source": [
    "## 2. Forward propagation\n",
    "- y = wx + b\n",
    "\n"
   ]
  },
  {
   "cell_type": "code",
   "execution_count": 176,
   "metadata": {},
   "outputs": [],
   "source": [
    "w_random = np.random.uniform(low=0, high=1, size=7840).reshape(784,10).astype('f')\n",
    "b_random = np.random.uniform(low=0, high=1, size=10).astype('f')\n",
    "\n",
    "x = tf.placeholder(tf.float32, name=\"x\", shape=[None, 784])\n",
    "w = tf.Variable( w_random , name=\"w\", shape=[784,10])\n",
    "b = tf.Variable( b_random , name=\"b\", shape=[10])\n",
    "\n",
    "y_pred = tf.matmul(x,w) + b\n",
    "\n",
    "y_placeholder = tf.placeholder(tf.float32, shape=[None,10], name=\"y_ph\")"
   ]
  },
  {
   "cell_type": "markdown",
   "metadata": {},
   "source": [
    "## 3. Define cost function"
   ]
  },
  {
   "cell_type": "code",
   "execution_count": 177,
   "metadata": {},
   "outputs": [],
   "source": [
    "cost = tf.reduce_mean( tf.nn.softmax_cross_entropy_with_logits( labels = y_placeholder, logits = y_pred ) )"
   ]
  },
  {
   "cell_type": "markdown",
   "metadata": {},
   "source": [
    "## 4. Optimizer"
   ]
  },
  {
   "cell_type": "code",
   "execution_count": 178,
   "metadata": {},
   "outputs": [],
   "source": [
    "optimizer = tf.train.GradientDescentOptimizer(learning_rate = 0.01)\n",
    "cost_optimizer = optimizer.minimize(cost)"
   ]
  },
  {
   "cell_type": "markdown",
   "metadata": {},
   "source": [
    "## 5. Train the model\n",
    "- Train the model in batches"
   ]
  },
  {
   "cell_type": "code",
   "execution_count": 233,
   "metadata": {},
   "outputs": [],
   "source": [
    "batch_size = 200\n",
    "\n",
    "def next_batch():\n",
    "    next_batch_index = np.random.randint(0,m_test-1, batch_size)\n",
    "    return (x_train[next_batch_index], y_train[next_batch_index])"
   ]
  },
  {
   "cell_type": "code",
   "execution_count": 234,
   "metadata": {},
   "outputs": [],
   "source": [
    "init = tf.global_variables_initializer()\n",
    "\n",
    "w_trained = 0\n",
    "b_trained = 0\n",
    "\n",
    "with tf.Session() as sess:\n",
    "    \n",
    "    sess.run(init)\n",
    "    epochs = 10\n",
    "    \n",
    "    for i in range(6000):\n",
    "        x_next, y_next = next_batch()\n",
    "        sess.run(cost_optimizer, feed_dict={x:x_next, y_placeholder:y_next})\n",
    "    \n",
    "    w_trained = sess.run(w)\n",
    "    b_trained = sess.run(b)    "
   ]
  },
  {
   "cell_type": "markdown",
   "metadata": {},
   "source": [
    "## 6. Predictions"
   ]
  },
  {
   "cell_type": "code",
   "execution_count": 236,
   "metadata": {},
   "outputs": [
    {
     "name": "stdout",
     "output_type": "stream",
     "text": [
      " Acrtual [0 0 1 0 0 0 0 0 0 0] Prediction [ 8524.12   8316.089 12044.454  8429.348 10345.102  7470.961  9552.432\n",
      "  9777.988  9084.388  9435.707]  \n"
     ]
    }
   ],
   "source": [
    "y_predict = np.dot(w_trained.T , x_train[50]) + b_trained\n",
    "print(\" Acrtual {} Prediction {}  \".format(y_train[50], y_predict))"
   ]
  },
  {
   "cell_type": "markdown",
   "metadata": {},
   "source": [
    "## 7. Accuraty"
   ]
  },
  {
   "cell_type": "code",
   "execution_count": 257,
   "metadata": {},
   "outputs": [
    {
     "data": {
      "text/plain": [
       "(10000, 10)"
      ]
     },
     "execution_count": 257,
     "metadata": {},
     "output_type": "execute_result"
    }
   ],
   "source": [
    "y_test_predict_pre = np.dot(x_test , w_trained) + b_trained\n",
    "y_test_predict_pre.shape"
   ]
  },
  {
   "cell_type": "code",
   "execution_count": 258,
   "metadata": {},
   "outputs": [
    {
     "data": {
      "text/plain": [
       "(10000, 10)"
      ]
     },
     "execution_count": 258,
     "metadata": {},
     "output_type": "execute_result"
    }
   ],
   "source": [
    "y_test_predict_onehot = np.zeros((y_test_predict_pre.shape)).astype(int)\n",
    "y_test_predict_onehot.shape"
   ]
  },
  {
   "cell_type": "code",
   "execution_count": 259,
   "metadata": {},
   "outputs": [
    {
     "name": "stdout",
     "output_type": "stream",
     "text": [
      "10000\n"
     ]
    }
   ],
   "source": [
    "print(y_test_predict_onehot.shape[0])\n",
    "for i in range(y_test_predict_onehot.shape[0]):\n",
    "    y_test_predict_onehot[i] = (y_test_predict_pre[i] == np.amax(y_test_predict_pre[i])).astype(int)\n"
   ]
  },
  {
   "cell_type": "code",
   "execution_count": 260,
   "metadata": {},
   "outputs": [
    {
     "name": "stdout",
     "output_type": "stream",
     "text": [
      " Actual         [0 0 0 0 1 0 0 0 0 0] \n",
      " Prediction     [0 0 0 0 0 0 1 0 0 0] \n",
      " Prediction Pre [ 5226.0376  9274.5    12562.499   8500.62    7807.5864  3992.4453\n",
      " 13660.406  10718.683  10426.621   9180.856 ] \n"
     ]
    }
   ],
   "source": [
    "# print(y_test_predict_onehot[5])\n",
    "index = 0\n",
    "print(\" Actual         {} \".format(y_test[index]))\n",
    "print(\" Prediction     {} \".format(y_test_predict_onehot[index]))\n",
    "print(\" Prediction Pre {} \".format(y_test_predict_pre[index]))"
   ]
  },
  {
   "cell_type": "code",
   "execution_count": 261,
   "metadata": {},
   "outputs": [
    {
     "name": "stdout",
     "output_type": "stream",
     "text": [
      " Accuracy is : 0.1011 \n"
     ]
    }
   ],
   "source": [
    "y_test_predict_onehot\n",
    "y_test\n",
    "count = 0\n",
    "for item in range(y_test.shape[0]):\n",
    "    if np.array_equal(y_test_predict_onehot[item], y_test[item]):\n",
    "       count = count + 1\n",
    "\n",
    "    \n",
    "print(\" Accuracy is : {} \".format(count / y_test.shape[0]))"
   ]
  },
  {
   "cell_type": "code",
   "execution_count": null,
   "metadata": {},
   "outputs": [],
   "source": []
  }
 ],
 "metadata": {
  "file_extension": ".py",
  "kernelspec": {
   "display_name": "Python 3",
   "language": "python",
   "name": "python3"
  },
  "language_info": {
   "codemirror_mode": {
    "name": "ipython",
    "version": 3
   },
   "file_extension": ".py",
   "mimetype": "text/x-python",
   "name": "python",
   "nbconvert_exporter": "python",
   "pygments_lexer": "ipython3",
   "version": "3.7.5"
  },
  "mimetype": "text/x-python",
  "name": "python",
  "npconvert_exporter": "python",
  "pygments_lexer": "ipython3",
  "version": 3
 },
 "nbformat": 4,
 "nbformat_minor": 2
}
